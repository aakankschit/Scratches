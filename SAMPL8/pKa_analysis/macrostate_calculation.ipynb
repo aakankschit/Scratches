{
 "cells": [
  {
   "cell_type": "markdown",
   "source": [
    "# Macrostate Calculation Troubleshooting\n",
    "This notebook looks at modifying code from David Mobley that has been used to compute macrostate pKa values using microstate predictions."
   ],
   "metadata": {
    "collapsed": false,
    "pycharm": {
     "name": "#%% md\n"
    }
   }
  },
  {
   "cell_type": "code",
   "execution_count": 1,
   "outputs": [],
   "source": [
    "import os\n",
    "import glob\n",
    "import io\n",
    "import collections\n",
    "import pickle\n",
    "import numpy as np\n",
    "import pandas as pd\n",
    "import seaborn as sns\n",
    "from matplotlib import pyplot as plt\n",
    "import scipy.stats\n",
    "from scipy.special import logsumexp\n",
    "from scipy.optimize import fsolve\n",
    "from pKa_macrostate_analysis import pKaSubmission\n",
    "from pKa_macrostate_analysis import Macro_pKa"
   ],
   "metadata": {
    "collapsed": false,
    "pycharm": {
     "name": "#%%\n"
    }
   }
  },
  {
   "cell_type": "markdown",
   "source": [
    "## Load Data\n",
    "Load data from pickle file generated from *macrostate_analysis.ipynb*"
   ],
   "metadata": {
    "collapsed": false,
    "pycharm": {
     "name": "#%% md\n"
    }
   }
  },
  {
   "cell_type": "code",
   "execution_count": 2,
   "outputs": [],
   "source": [
    "microstate_dt_file = open(\"microstates.pickle\",\"rb\")\n",
    "microstate_dt = pickle.load(microstate_dt_file)\n",
    "microstate_dt_file.close()"
   ],
   "metadata": {
    "collapsed": false,
    "pycharm": {
     "name": "#%%\n"
    }
   }
  },
  {
   "cell_type": "markdown",
   "source": [
    "## Macro pKa Calculation Function\n",
    "First loads free energy and population charge functions before loading actual *get_macropKa* function in a separate cell."
   ],
   "metadata": {
    "collapsed": false,
    "pycharm": {
     "name": "#%% md\n"
    }
   }
  },
  {
   "cell_type": "code",
   "execution_count": 3,
   "outputs": [],
   "source": [
    "# Compute beta and other constants\n",
    "kB = 1.381 * 6.02214 / 1000.0  # [kJ/(mol K)]\n",
    "beta = 1. / (kB * 300)  # [mol/kJ]\n",
    "beta = beta * 4.186\n",
    "C_unit = 1 / beta * np.log(10)\n",
    "\n",
    "\n",
    "# Compute free energy as a function of pH for states\n",
    "# WITHIN-charge transitions have same pH dependence\n",
    "def DeltaG(pH, state, state_details):\n",
    "    #print(\"state_details\",state_details)\n",
    "    for item in state_details:\n",
    "        if item[0] == state:\n",
    "            # 0 serves as the reference state; all transitions are away from 0.\n",
    "            if item[2] == -1:\n",
    "                DeltaM = 1\n",
    "            elif item[2] == 1:\n",
    "                DeltaM = -1\n",
    "            elif item[2] ==2:\n",
    "                DeltaM=-2\n",
    "            else:\n",
    "                DeltaM = 0  # Hack to capture fact that pH dependence of states at same formal charge is same/cancels\n",
    "            # Compute value\n",
    "            return (item[1] - pH * DeltaM * C_unit)  # Gunner eq 3\n",
    "\n",
    "\n",
    "# Compute populations for charge states (without normalization, due to laziness/since it'll drop out)\n",
    "def pop_charge(pH, formal_charge, state_details):\n",
    "    free_energies = []\n",
    "    for item in state_details: #state_details [('SM42_micro001', 0.5304000000000001, -1, 0.0, 1.3872000000000002)\n",
    "        if item[2] == formal_charge:\n",
    "            free_energies.append(-beta * DeltaG(pH, item[0], state_details))\n",
    "    if formal_charge == 0:\n",
    "        free_energies.append(0 * pH)\n",
    "    #print(\"free_energies\",free_energies)\n",
    "    return np.exp(logsumexp(free_energies))\n",
    "\n",
    "# get G of each group\n",
    "def getG(msgroup):\n",
    "    Pi_raw = np.array([np.exp(-beta*ms[1]) for ms in msgroup])\n",
    "    Pi_norm = Pi_raw/sum(Pi_raw)\n",
    "    E = sum(np.array([ms[1] for ms in msgroup]) * Pi_norm)\n",
    "    TS = -sum(Pi_norm * np.log(Pi_norm))/beta\n",
    "    G = E - TS\n",
    "    return G"
   ],
   "metadata": {
    "collapsed": false,
    "pycharm": {
     "name": "#%%\n"
    }
   }
  },
  {
   "cell_type": "code",
   "execution_count": 4,
   "outputs": [],
   "source": [
    "def get_macropka(rfe_data):\n",
    "    macropkas = []\n",
    "    # Extract each molecule\n",
    "    molecules = {}\n",
    "    for index, row in rfe_data.iterrows():\n",
    "        SM = index\n",
    "        state = row[\"ID tag\"]\n",
    "        charge = row[\"total charge\"]\n",
    "        rfe = row[\"pKa mean\"]\n",
    "        sem = row[\"pKa SEM\"]\n",
    "        model_uncertainty = row[\"pKa model uncertainty\"]\n",
    "\n",
    "        if SM in molecules:\n",
    "            molecules[SM].append((state, rfe, charge, sem, model_uncertainty))\n",
    "        else:\n",
    "            molecules[SM] = [(state, rfe, charge, sem, model_uncertainty)]\n",
    "\n",
    "\n",
    "\n",
    "    # Loop over molecules, convert to state_details\n",
    "    SM_names = [x for x in molecules.keys()]\n",
    "    print(SM_names)\n",
    "    SM_names.sort()\n",
    "    for sm_name in SM_names:\n",
    "        state_details = molecules[sm_name]\n",
    "\n",
    "        # Figure out what formal charges are present in states\n",
    "        formal_charges = [info[2] for info in state_details]\n",
    "        print(formal_charges)\n",
    "\n",
    "        # group microstates into groups based their formal charge\n",
    "        msgroup_p2 = [state for state in state_details if state[2] == 2]  # microstates with formal charge +2\n",
    "        msgroup_p1 = [state for state in state_details if state[2] == 1]  # microstates with formal charge +1\n",
    "        msgroup_p0 = [state for state in state_details if state[2] == 0]  # microstates with formal charge 0\n",
    "        msgroup_p0.append((\"reference state\", 0, 0))  # add back reference state\n",
    "        msgroup_n1 = [state for state in state_details if state[2] == -1]  # microstates with formal charge -1\n",
    "\n",
    "        # for reaction A -> B\n",
    "        # ΔGAB = (-1)(C_unit)(pH - pKaBA)\n",
    "        # Therefore when pH = 0, we have pKaBA = ΔGAB/C_unit\n",
    "        # TODO: How are these formal charges estimated?\n",
    "        # Compute +2 to +1 transition\n",
    "        if 2 in formal_charges:\n",
    "            pka = Macro_pKa()\n",
    "            pka.molecule = sm_name.split(\"_\")[0]\n",
    "            pka.transition_from = 2\n",
    "            pka.transition_to = 1\n",
    "            pka.SEM = state_details[0][3]\n",
    "            pka.MU = state_details[0][4]\n",
    "\n",
    "            # titration method given my David's group\n",
    "            init_guess = -15\n",
    "            func_2to1 = lambda pH : (pop_charge(pH, 2, state_details) - pop_charge(pH, 1, state_details))\n",
    "            pH_solution_2to1, infodict, ier, mesg = fsolve(func_2to1, init_guess, factor = 0.1, full_output=True)\n",
    "            # If message indicates poor convergence, change initial guess and try again\n",
    "            if 'The iteration is not making good progress' in mesg:\n",
    "                init_guess-=5\n",
    "            pH_solution_2to1, infodict, ier, mesg = fsolve(func_2to1, init_guess, factor = 0.1, full_output=True)\n",
    "            # If still poor convergence, print warning (MAY NEED BETTER SOLUTION TO THIS)\n",
    "            if 'The iteration is not making good progress' in mesg:\n",
    "                print(sm_name)\n",
    "                print(\"WARNING: Numerical problems encountered with fsolv\")\n",
    "            pka.pKa_bytitration = pH_solution_2to1\n",
    "\n",
    "            # delta G method given by Junjun Mao\n",
    "            dG = getG(msgroup_p1) - getG(msgroup_p2)\n",
    "            pka.pKa_bydG = (dG / C_unit)\n",
    "\n",
    "            macropkas.append(pka)\n",
    "\n",
    "        # Compute +1 to 0 transition\n",
    "        if 1 in formal_charges:\n",
    "            pka = Macro_pKa()\n",
    "            pka.molecule = sm_name.split(\"_\")[0]\n",
    "            pka.transition_from = 1\n",
    "            pka.transition_to = 0\n",
    "            pka.SEM = state_details[0][3]\n",
    "            pka.MU = state_details[0][4]\n",
    "\n",
    "            # titration method given by David's group\n",
    "            init_guess = -5\n",
    "            func_10 = lambda pH: (pop_charge(pH, 1, state_details) - pop_charge(pH, 0, state_details))\n",
    "            pH_solution_1to0, infodict, ier, mesg = fsolve(func_10, init_guess, factor=0.1, full_output=True)\n",
    "            if 'The iteration is not making good progress' in mesg:\n",
    "                init_guess-=3\n",
    "            pH_solution_1to0, infodict, ier, mesg = fsolve(func_10, init_guess, factor=0.1, full_output=True)\n",
    "            # If still poor convergence, print warning (MAY NEED BETTER SOLUTION TO THIS)\n",
    "            if 'The iteration is not making good progress' in mesg:\n",
    "                print(sm_name)\n",
    "                print(\"WARNING: Numerical problems encountered with fsolv\")\n",
    "            pka.pKa_bytitration = pH_solution_1to0\n",
    "\n",
    "            # delta G method given by Junjun Mao\n",
    "            dG = getG(msgroup_p0) - getG(msgroup_p1)\n",
    "            pka.pKa_bydG = (dG / C_unit)\n",
    "\n",
    "            macropkas.append(pka)\n",
    "\n",
    "        # Compute 0 to -1 transition\n",
    "        if -1 in formal_charges:\n",
    "            pka = Macro_pKa()\n",
    "            pka.molecule = sm_name.split(\"_\")[0]\n",
    "            pka.transition_from = 0\n",
    "            pka.transition_to = -1\n",
    "            pka.SEM = state_details[0][3]\n",
    "            pka.MU = state_details[0][4]\n",
    "\n",
    "            # titration method given by David's group\n",
    "            init_guess = 5\n",
    "            func_0neg1 = lambda pH: (pop_charge(pH, -1, state_details) - pop_charge(pH, 0, state_details))\n",
    "            pH_solution_0toneg1, infodict, ier, mesg = fsolve(func_0neg1, init_guess, factor=0.1, full_output=True)\n",
    "            if 'The iteration is not making good progress' in mesg:\n",
    "                init_guess+=3\n",
    "            pH_solution_0toneg1, infodict, ier, mesg = fsolve(func_0neg1, init_guess, factor=0.1, full_output=True)\n",
    "            # If still poor convergence, print warning (MAY NEED BETTER SOLUTION TO THIS)\n",
    "            if 'The iteration is not making good progress' in mesg:\n",
    "                print(sm_name)\n",
    "                print(\"WARNING: Numerical problems encountered with fsolv\")\n",
    "            pka.pKa_bytitration = pH_solution_0toneg1\n",
    "\n",
    "            # delta G method given by Junjun Mao\n",
    "            dG = getG(msgroup_n1) - getG(msgroup_p0)\n",
    "            pka.pKa_bydG = (dG / C_unit)\n",
    "\n",
    "            macropkas.append(pka)\n",
    "\n",
    "    return macropkas"
   ],
   "metadata": {
    "collapsed": false,
    "pycharm": {
     "name": "#%%\n"
    }
   }
  },
  {
   "cell_type": "markdown",
   "source": [
    "## Fix Units"
   ],
   "metadata": {
    "collapsed": false,
    "pycharm": {
     "name": "#%% md\n"
    }
   }
  },
  {
   "cell_type": "code",
   "execution_count": 5,
   "outputs": [],
   "source": [
    "def submission_fix_and_convert(submission_data):\n",
    "    for submission in submission_data:\n",
    "        sub = submission.data\n",
    "        #reset the index so that each prediction can be accessed individually (without having to rearrange reference state and microstate)\n",
    "        submission.data=submission.data.rename_axis('Molecule ID').reset_index()\n",
    "        for mol_ID, series in submission.data.iterrows():\n",
    "            pKa_mean_pred = submission.data.loc[mol_ID, \"pKa mean\"]\n",
    "            pKa_SEM_pred = submission.data.loc[mol_ID, \"pKa SEM\"]\n",
    "            pKa_model_uncertainty =  submission.data.loc[mol_ID, \"pKa model uncertainty\"]\n",
    "\n",
    "            # Convert submissions to kcal/mol\n",
    "            if submission.file_name in [\"pKa-ECRISM-1\", \"pKa-VA-2-charge-correction\", \"pKa_RodriguezPaluch_SMD_1\", \"pKa_RodriguezPaluch_SMD_2\", \"pKa_RodriguezPaluch_SMD_3\"]:\n",
    "                pKa_mean_pred = pKa_mean_pred*C_unit #convert submission to kcal/mol\n",
    "                pKa_SEM_pred = pKa_SEM_pred*C_unit\n",
    "                pKa_model_uncertainty = pKa_model_uncertainty*C_unit\n",
    "\n",
    "            # fix submission which seems to be in kJ/mol\n",
    "            if submission.file_name in [\"pka-nhlbi-1c\"]:\n",
    "                # correct free energies into kcal/mol\n",
    "                # submission seemed to have used C_units = 5.69 for kJ/mol, so can divide by 4.186 to get kcal/mol\n",
    "                pKa_mean_pred = pKa_mean_pred/4.186\n",
    "                pKa_SEM_pred = pKa_SEM_pred/4.186\n",
    "                pKa_model_uncertainty = pKa_model_uncertainty/4.186\n",
    "\n",
    "            #If single transition states are opposite in sign from macro pKa, we assume they made a sign error\n",
    "            if submission.file_name in [ \"pKa-VA-2-charge-correction\", \"pka-nhlbi-1c\", \"pKa_RodriguezPaluch_SMD_1\",\"pKa_RodriguezPaluch_SMD_2\", \"pKa_RodriguezPaluch_SMD_3\"]:\n",
    "                pKa_mean_pred = pKa_mean_pred*-1 #fix sign error\n",
    "                submission.data.loc[mol_ID, \"pKa mean\"] = pKa_mean_pred\n",
    "\n",
    "            submission.data.loc[mol_ID, \"pKa mean\"] = pKa_mean_pred\n",
    "            submission.data.loc[mol_ID, \"pKa SEM\"] = pKa_SEM_pred\n",
    "            submission.data.loc[mol_ID, \"pKa model uncertainty\"] = pKa_model_uncertainty\n",
    "        submission.data = submission.data.set_index('Molecule ID')\n",
    "    return submission_data"
   ],
   "metadata": {
    "collapsed": false,
    "pycharm": {
     "name": "#%%\n"
    }
   }
  },
  {
   "cell_type": "code",
   "execution_count": 6,
   "outputs": [],
   "source": [
    "microstate_dt_fixed = submission_fix_and_convert(microstate_dt)"
   ],
   "metadata": {
    "collapsed": false,
    "pycharm": {
     "name": "#%%\n"
    }
   }
  },
  {
   "cell_type": "code",
   "execution_count": null,
   "outputs": [],
   "source": [
    "macrostates = microstate_dt_fixed[0].data[0:0]\n",
    "del macrostates['ID tag']\n",
    "del macrostates['total charge']\n",
    "for microstates in microstate_dt_fixed:\n",
    "    macropKas = get_macropka(microstates.data)\n",
    "    for pka in macropKas:\n",
    "        macrostates = macrostates.append({\"Molecule ID\": str(pka.molecule),\n",
    "                                          \"pKa mean\": pka.pKa_bytitration[0],\n",
    "                                          \"pKa SEM\": pka.SEM,\n",
    "                                          \"pKa model uncertainty\":pka.MU},\n",
    "                                         ignore_index = True)\n",
    "        macrostates.set_index('Molecule ID')\n"
   ],
   "metadata": {
    "collapsed": false,
    "pycharm": {
     "name": "#%%\n"
    }
   }
  },
  {
   "cell_type": "code",
   "execution_count": 10,
   "outputs": [
    {
     "data": {
      "text/plain": "                              ID tag  total charge  pKa mean  pKa SEM  \\\nMolecule ID                                                             \nSAMPL8-1_micro000  SAMPL8-1_extra001             1      1.10      0.1   \nSAMPL8-1_micro000  SAMPL8-1_extra002             1      1.12      0.1   \nSAMPL8-1_micro000  SAMPL8-1_micro000             0      0.00      0.1   \nSAMPL8-1_micro000  SAMPL8-1_micro007             0     15.42      0.1   \nSAMPL8-1_micro000  SAMPL8-1_micro010             0     14.07      0.1   \n...                              ...           ...       ...      ...   \nSAMPL8-9_micro002  SAMPL8-9_micro002             1    -10.60      0.1   \nSAMPL8-9_micro002  SAMPL8-9_micro004             1     -0.11      0.1   \nSAMPL8-9_micro002  SAMPL8-9_micro000             0      0.00      0.1   \nSAMPL8-9_micro002  SAMPL8-9_micro003             0      2.20      0.1   \nSAMPL8-9_micro002  SAMPL8-9_micro001            -1     16.75      0.1   \n\n                   pKa model uncertainty  \nMolecule ID                               \nSAMPL8-1_micro000                    1.4  \nSAMPL8-1_micro000                    1.4  \nSAMPL8-1_micro000                    1.4  \nSAMPL8-1_micro000                    1.4  \nSAMPL8-1_micro000                    1.4  \n...                                  ...  \nSAMPL8-9_micro002                    1.4  \nSAMPL8-9_micro002                    1.4  \nSAMPL8-9_micro002                    1.4  \nSAMPL8-9_micro002                    1.4  \nSAMPL8-9_micro002                    1.4  \n\n[203 rows x 5 columns]",
      "text/html": "<div>\n<style scoped>\n    .dataframe tbody tr th:only-of-type {\n        vertical-align: middle;\n    }\n\n    .dataframe tbody tr th {\n        vertical-align: top;\n    }\n\n    .dataframe thead th {\n        text-align: right;\n    }\n</style>\n<table border=\"1\" class=\"dataframe\">\n  <thead>\n    <tr style=\"text-align: right;\">\n      <th></th>\n      <th>ID tag</th>\n      <th>total charge</th>\n      <th>pKa mean</th>\n      <th>pKa SEM</th>\n      <th>pKa model uncertainty</th>\n    </tr>\n    <tr>\n      <th>Molecule ID</th>\n      <th></th>\n      <th></th>\n      <th></th>\n      <th></th>\n      <th></th>\n    </tr>\n  </thead>\n  <tbody>\n    <tr>\n      <th>SAMPL8-1_micro000</th>\n      <td>SAMPL8-1_extra001</td>\n      <td>1</td>\n      <td>1.10</td>\n      <td>0.1</td>\n      <td>1.4</td>\n    </tr>\n    <tr>\n      <th>SAMPL8-1_micro000</th>\n      <td>SAMPL8-1_extra002</td>\n      <td>1</td>\n      <td>1.12</td>\n      <td>0.1</td>\n      <td>1.4</td>\n    </tr>\n    <tr>\n      <th>SAMPL8-1_micro000</th>\n      <td>SAMPL8-1_micro000</td>\n      <td>0</td>\n      <td>0.00</td>\n      <td>0.1</td>\n      <td>1.4</td>\n    </tr>\n    <tr>\n      <th>SAMPL8-1_micro000</th>\n      <td>SAMPL8-1_micro007</td>\n      <td>0</td>\n      <td>15.42</td>\n      <td>0.1</td>\n      <td>1.4</td>\n    </tr>\n    <tr>\n      <th>SAMPL8-1_micro000</th>\n      <td>SAMPL8-1_micro010</td>\n      <td>0</td>\n      <td>14.07</td>\n      <td>0.1</td>\n      <td>1.4</td>\n    </tr>\n    <tr>\n      <th>...</th>\n      <td>...</td>\n      <td>...</td>\n      <td>...</td>\n      <td>...</td>\n      <td>...</td>\n    </tr>\n    <tr>\n      <th>SAMPL8-9_micro002</th>\n      <td>SAMPL8-9_micro002</td>\n      <td>1</td>\n      <td>-10.60</td>\n      <td>0.1</td>\n      <td>1.4</td>\n    </tr>\n    <tr>\n      <th>SAMPL8-9_micro002</th>\n      <td>SAMPL8-9_micro004</td>\n      <td>1</td>\n      <td>-0.11</td>\n      <td>0.1</td>\n      <td>1.4</td>\n    </tr>\n    <tr>\n      <th>SAMPL8-9_micro002</th>\n      <td>SAMPL8-9_micro000</td>\n      <td>0</td>\n      <td>0.00</td>\n      <td>0.1</td>\n      <td>1.4</td>\n    </tr>\n    <tr>\n      <th>SAMPL8-9_micro002</th>\n      <td>SAMPL8-9_micro003</td>\n      <td>0</td>\n      <td>2.20</td>\n      <td>0.1</td>\n      <td>1.4</td>\n    </tr>\n    <tr>\n      <th>SAMPL8-9_micro002</th>\n      <td>SAMPL8-9_micro001</td>\n      <td>-1</td>\n      <td>16.75</td>\n      <td>0.1</td>\n      <td>1.4</td>\n    </tr>\n  </tbody>\n</table>\n<p>203 rows × 5 columns</p>\n</div>"
     },
     "execution_count": 10,
     "metadata": {},
     "output_type": "execute_result"
    }
   ],
   "source": [
    "microstate_dt_fixed[0].data\n"
   ],
   "metadata": {
    "collapsed": false,
    "pycharm": {
     "name": "#%%\n"
    }
   }
  },
  {
   "cell_type": "code",
   "execution_count": null,
   "outputs": [],
   "source": [],
   "metadata": {
    "collapsed": false,
    "pycharm": {
     "name": "#%%\n"
    }
   }
  }
 ],
 "metadata": {
  "kernelspec": {
   "name": "sampl8",
   "language": "python",
   "display_name": "sampl8"
  },
  "language_info": {
   "codemirror_mode": {
    "name": "ipython",
    "version": 2
   },
   "file_extension": ".py",
   "mimetype": "text/x-python",
   "name": "python",
   "nbconvert_exporter": "python",
   "pygments_lexer": "ipython2",
   "version": "2.7.6"
  }
 },
 "nbformat": 4,
 "nbformat_minor": 0
}